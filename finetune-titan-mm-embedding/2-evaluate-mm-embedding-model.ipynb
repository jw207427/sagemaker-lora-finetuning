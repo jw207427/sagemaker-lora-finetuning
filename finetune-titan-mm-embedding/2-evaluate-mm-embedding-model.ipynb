{
 "cells": [
  {
   "cell_type": "code",
   "execution_count": 58,
   "id": "55ca4bee-3e5f-4dc9-9201-831dddd1b183",
   "metadata": {
    "scrolled": true
   },
   "outputs": [
    {
     "name": "stdout",
     "output_type": "stream",
     "text": [
      "Collecting opensearch-py\n",
      "  Downloading opensearch_py-2.5.0-py2.py3-none-any.whl.metadata (6.8 kB)\n",
      "Collecting urllib3<2,>=1.26.18 (from opensearch-py)\n",
      "  Downloading urllib3-1.26.18-py2.py3-none-any.whl.metadata (48 kB)\n",
      "\u001b[2K     \u001b[90m━━━━━━━━━━━━━━━━━━━━━━━━━━━━━━━━━━━━━━━━\u001b[0m \u001b[32m48.9/48.9 kB\u001b[0m \u001b[31m4.9 MB/s\u001b[0m eta \u001b[36m0:00:00\u001b[0m\n",
      "\u001b[?25hRequirement already satisfied: requests<3.0.0,>=2.4.0 in /opt/conda/lib/python3.10/site-packages (from opensearch-py) (2.31.0)\n",
      "Requirement already satisfied: six in /opt/conda/lib/python3.10/site-packages (from opensearch-py) (1.16.0)\n",
      "Requirement already satisfied: python-dateutil in /opt/conda/lib/python3.10/site-packages (from opensearch-py) (2.9.0.post0)\n",
      "Requirement already satisfied: certifi>=2022.12.07 in /opt/conda/lib/python3.10/site-packages (from opensearch-py) (2023.11.17)\n",
      "Requirement already satisfied: charset-normalizer<4,>=2 in /opt/conda/lib/python3.10/site-packages (from requests<3.0.0,>=2.4.0->opensearch-py) (3.3.2)\n",
      "Requirement already satisfied: idna<4,>=2.5 in /opt/conda/lib/python3.10/site-packages (from requests<3.0.0,>=2.4.0->opensearch-py) (3.6)\n",
      "Downloading opensearch_py-2.5.0-py2.py3-none-any.whl (266 kB)\n",
      "\u001b[2K   \u001b[90m━━━━━━━━━━━━━━━━━━━━━━━━━━━━━━━━━━━━━━━━\u001b[0m \u001b[32m266.1/266.1 kB\u001b[0m \u001b[31m19.6 MB/s\u001b[0m eta \u001b[36m0:00:00\u001b[0m\n",
      "\u001b[?25hDownloading urllib3-1.26.18-py2.py3-none-any.whl (143 kB)\n",
      "\u001b[2K   \u001b[90m━━━━━━━━━━━━━━━━━━━━━━━━━━━━━━━━━━━━━━━━\u001b[0m \u001b[32m143.8/143.8 kB\u001b[0m \u001b[31m28.3 MB/s\u001b[0m eta \u001b[36m0:00:00\u001b[0m\n",
      "\u001b[?25hInstalling collected packages: urllib3, opensearch-py\n",
      "  Attempting uninstall: urllib3\n",
      "    Found existing installation: urllib3 2.2.1\n",
      "    Uninstalling urllib3-2.2.1:\n",
      "      Successfully uninstalled urllib3-2.2.1\n",
      "\u001b[31mERROR: pip's dependency resolver does not currently take into account all the packages that are installed. This behaviour is the source of the following dependency conflicts.\n",
      "sparkmagic 0.21.0 requires pandas<2.0.0,>=0.17.1, but you have pandas 2.1.4 which is incompatible.\u001b[0m\u001b[31m\n",
      "\u001b[0mSuccessfully installed opensearch-py-2.5.0 urllib3-1.26.18\n"
     ]
    }
   ],
   "source": [
    "!pip install opensearch-py"
   ]
  },
  {
   "cell_type": "markdown",
   "id": "f4811413-264c-4e9b-a2a4-56008fff769e",
   "metadata": {},
   "source": [
    "### > Setup"
   ]
  },
  {
   "cell_type": "code",
   "execution_count": 14,
   "id": "f766c570-4fbc-49fa-a97e-d16c83707042",
   "metadata": {},
   "outputs": [],
   "source": [
    "import json\n",
    "import boto3\n",
    "import sys\n",
    "import os\n",
    "import io\n",
    "from PIL import Image\n",
    "import time\n",
    "import shutil\n",
    "import pandas as pd\n",
    "from sagemaker.utils import name_from_base\n",
    "from opensearch_util import OpenSearchManager\n",
    "\n",
    "# Add the root directory to the Python search path\n",
    "sys.path.append(\"../image-generator\")\n",
    "\n",
    "from helper import (\n",
    "    get_text_response,\n",
    "    _encode,\n",
    "    download_file_from_s3,\n",
    "    get_mm_embedding,\n",
    "    calc_total_cost,\n",
    "    load_jsonl\n",
    ")\n",
    "\n",
    "%store -r provisioned_model_id\n",
    "\n",
    "os_manager = OpenSearchManager()\n",
    "prefix = \"mm-index\"\n",
    "index_name = name_from_base(prefix)"
   ]
  },
  {
   "cell_type": "markdown",
   "id": "e36397fb-7bd0-40b3-8da0-ed6ac4c0dbd3",
   "metadata": {},
   "source": [
    "### > Load data"
   ]
  },
  {
   "cell_type": "code",
   "execution_count": 20,
   "id": "3c8fd86e-53d8-4a88-98e4-215b94255913",
   "metadata": {
    "scrolled": true
   },
   "outputs": [
    {
     "data": {
      "text/plain": [
       "{'e2191ba5-ad8b-46d1-8271-22767c656705': {'image-ref': 's3://sagemaker-us-west-2-374212921621/titan-finetuning/image070.png',\n",
       "  'caption': 'storyboard sketch of A fearless explorer climbing a towering tree, their eyes filled with wonder at the world below.'},\n",
       " 'b2c6ab4b-8caa-4f8d-a3f0-6523ec434dc4': {'image-ref': 's3://sagemaker-us-west-2-374212921621/titan-finetuning/image063.png',\n",
       "  'caption': \"storyboard sketch of A tiny gardener, beaming with pride, gently caressing the petals of a vibrant sunflower they've nurtured from a seed.\"},\n",
       " '266e8fa3-2bd5-4ed2-8a46-cd1378532f3c': {'image-ref': 's3://sagemaker-us-west-2-374212921621/titan-finetuning/image013.png',\n",
       "  'caption': 'storyboard sketch of A brave knight standing tall, shield raised, ready to defend the kingdom from any danger.'},\n",
       " '606a82ba-e640-4e82-93aa-3b5a275e1f6b': {'image-ref': 's3://sagemaker-us-west-2-374212921621/titan-finetuning/image095.png',\n",
       "  'caption': 'storyboard sketch of Hands diligently tend to a vegetable garden, nurturing the fruits of their labor with care.'},\n",
       " '65cac8a2-16de-46ca-9839-df07da4a43b5': {'image-ref': 's3://sagemaker-us-west-2-374212921621/titan-finetuning/image007.png',\n",
       "  'caption': 'storyboard sketch of A spaceship soaring through the cosmos, explorers peering out at distant galaxies and unknown wonders.'},\n",
       " '6ad29875-fd50-46ca-b275-7091740ba91a': {'image-ref': 's3://sagemaker-us-west-2-374212921621/titan-finetuning/image060.png',\n",
       "  'caption': 'storyboard sketch of Two curious explorers, hand in hand, embarking on a backyard adventure, their eyes alight with the promise of untold discoveries.'},\n",
       " '1c2acbcd-3783-46ec-9eb8-8d9393f53a79': {'image-ref': 's3://sagemaker-us-west-2-374212921621/titan-finetuning/image043.png',\n",
       "  'caption': 'storyboard sketch of A diminutive musician, lost in the melodies of a whimsical instrument, enchanting all who hear the wondrous tunes.'},\n",
       " '0b18484e-be8b-4e50-a4f7-bdb9760c53c9': {'image-ref': 's3://sagemaker-us-west-2-374212921621/titan-finetuning/image074.png',\n",
       "  'caption': 'storyboard sketch of A tiny scientist conducting experiments with household items, making groundbreaking discoveries.'},\n",
       " '0ba8614a-a83c-42e2-ae71-a5d4fbd3cb96': {'image-ref': 's3://sagemaker-us-west-2-374212921621/titan-finetuning/image017.png',\n",
       "  'caption': 'storyboard sketch of A group of curious monkeys swinging from vine to vine, exploring the lush jungle canopy.'},\n",
       " '4235eed6-7fc1-45d6-a2fa-38cb90e774cb': {'image-ref': 's3://sagemaker-us-west-2-374212921621/titan-finetuning/image033.png',\n",
       "  'caption': \"storyboard sketch of A gaggle of young explorers, armed with curiosity and tools of discovery, venturing into nature's wondrous unknown.\"},\n",
       " 'ec3ee11a-df31-44cd-848e-efc78361a880': {'image-ref': 's3://sagemaker-us-west-2-374212921621/titan-finetuning/image066.png',\n",
       "  'caption': 'storyboard sketch of A tiny chef proudly presenting a plate of freshly baked cookies, the aroma filling the kitchen.'},\n",
       " 'f2798351-0ab2-4e2b-b77c-160e6e2c4724': {'image-ref': 's3://sagemaker-us-west-2-374212921621/titan-finetuning/image061.png',\n",
       "  'caption': 'storyboard sketch of A small figure nestled beneath a towering oak tree, pencil in hand, sketching the intricate patterns on the bark.'},\n",
       " '5f613991-922c-47a3-b477-8d59a8d57c8c': {'image-ref': 's3://sagemaker-us-west-2-374212921621/titan-finetuning/image087.png',\n",
       "  'caption': \"storyboard sketch of A youngster's hands carefully tending to a tiny terrarium, nurturing the delicate plants and adding whimsical touches to create their own miniature world.\"},\n",
       " '7d088439-6990-4b9a-a05b-c470f2b8cd88': {'image-ref': 's3://sagemaker-us-west-2-374212921621/titan-finetuning/image012.png',\n",
       "  'caption': 'storyboard sketch of A dragon soaring through the clouds, its scales glistening as it breathes plumes of colorful smoke.'},\n",
       " 'bda3a8f3-52fe-4e20-8fb1-292993f130e0': {'image-ref': 's3://sagemaker-us-west-2-374212921621/titan-finetuning/image067.png',\n",
       "  'caption': 'storyboard sketch of A determined figure scaling a rock wall, their face etched with concentration as they navigate each foothold with unwavering focus.'},\n",
       " 'da99e2de-5622-4e41-8380-05facb77c509': {'image-ref': 's3://sagemaker-us-west-2-374212921621/titan-finetuning/image058.png',\n",
       "  'caption': 'storyboard sketch of Two budding scientists, huddled over a magnifying glass, unraveling the mysteries of the natural world, one fascinating observation at a time.'},\n",
       " '1e8d659b-6d03-415d-92bf-65ca4838bdb1': {'image-ref': 's3://sagemaker-us-west-2-374212921621/titan-finetuning/image020.png',\n",
       "  'caption': 'storyboard sketch of A family of polar bears huddled together on an icy floe, their thick fur coats protecting them from the bitter cold.'},\n",
       " '151ffe10-caa4-4860-9037-2b61ea198712': {'image-ref': 's3://sagemaker-us-west-2-374212921621/titan-finetuning/image082.png',\n",
       "  'caption': 'storyboard sketch of A group of pals huddled around a cozy campfire, swapping tales of adventure as the flames dance in their eyes.'},\n",
       " 'af815075-cf76-4ebb-8dec-6e4e4d22d593': {'image-ref': 's3://sagemaker-us-west-2-374212921621/titan-finetuning/image026.png',\n",
       "  'caption': 'storyboard sketch of A picnic basket overflowing with delectable treats, waiting to be enjoyed on a checkered blanket in a lush meadow.'},\n",
       " '119fc07b-8bf7-48f8-b5bd-1d46679511b6': {'image-ref': 's3://sagemaker-us-west-2-374212921621/titan-finetuning/image024.png',\n",
       "  'caption': 'storyboard sketch of Fluffy clouds drifting lazily across a bright blue sky, their shapes ever-changing like wispy works of art.'},\n",
       " '1827794d-90d6-4e02-b0a8-a14974e1a7f8': {'image-ref': 's3://sagemaker-us-west-2-374212921621/titan-finetuning/image066.png',\n",
       "  'caption': 'storyboard sketch of Two energetic playmates engaged in a boisterous game of tag, their laughter echoing through the park as they weave between trees.'},\n",
       " '06137d2f-28be-4ffe-83a4-d1496c76c369': {'image-ref': 's3://sagemaker-us-west-2-374212921621/titan-finetuning/image003.png',\n",
       "  'caption': 'storyboard sketch of A family of squirrels scurrying up a towering oak tree, gathering acorns and preparing for the coming winter.'},\n",
       " 'ca22e9bf-69dc-405b-923d-c07b8ed239f5': {'image-ref': 's3://sagemaker-us-west-2-374212921621/titan-finetuning/image064.png',\n",
       "  'caption': 'storyboard sketch of A budding artist diligently painting a mural on the neighborhood wall, adding vibrant colors to the urban canvas.'},\n",
       " '73e60443-7683-41a0-8b96-43de4f509b3c': {'image-ref': 's3://sagemaker-us-west-2-374212921621/titan-finetuning/image075.png',\n",
       "  'caption': 'storyboard sketch of A group of performers putting on a backyard play, their costumes crafted from everyday household items.'},\n",
       " '650017e2-0ef0-4269-8f3e-d03ac7f06699': {'image-ref': 's3://sagemaker-us-west-2-374212921621/titan-finetuning/image047.png',\n",
       "  'caption': \"storyboard sketch of A youngster's eyes wide with awe, watching a kaleidoscope of butterflies take flight.\"},\n",
       " 'f66a2978-dcdc-4a84-aea3-278cf2e846d1': {'image-ref': 's3://sagemaker-us-west-2-374212921621/titan-finetuning/image062.png',\n",
       "  'caption': \"storyboard sketch of A youngster's face aglow with determination, furiously pedaling a bicycle down a winding path.\"},\n",
       " 'a4d5cdc6-9666-49a2-8c49-557eb0dc0059': {'image-ref': 's3://sagemaker-us-west-2-374212921621/titan-finetuning/image044.png',\n",
       "  'caption': 'storyboard sketch of A miniature scientist, peering through a magnifying glass, unraveling the mysteries of the natural world.'},\n",
       " 'ddd0b80b-2df8-4d2d-b3f4-486c3d06846d': {'image-ref': 's3://sagemaker-us-west-2-374212921621/titan-finetuning/image041.png',\n",
       "  'caption': \"storyboard sketch of A youngster's eyes alight with determination, carefully guiding a kite's ascent into the boundless blue.\"},\n",
       " 'f0d96b0d-7341-4080-a0be-ed70dab6a36a': {'image-ref': 's3://sagemaker-us-west-2-374212921621/titan-finetuning/image001.png',\n",
       "  'caption': 'storyboard sketch of A puppy joyfully romping through a field of wildflowers, chasing butterflies and rolling in the tall grass.'},\n",
       " 'd0f93b63-f540-47be-814e-4bce87a16dcf': {'image-ref': 's3://sagemaker-us-west-2-374212921621/titan-finetuning/image056.png',\n",
       "  'caption': 'storyboard sketch of A young gardener, hands buried in rich soil, tenderly nurturing a bloom that mirrors the radiant smile on their face.'},\n",
       " '37e250ed-e21c-4501-879d-f4bdacac4317': {'image-ref': 's3://sagemaker-us-west-2-374212921621/titan-finetuning/image027.png',\n",
       "  'caption': 'storyboard sketch of A whimsical treehouse perched high among the branches, beckoning little adventurers to climb its winding staircase.'},\n",
       " '773c5a4f-e1aa-4fb9-95d8-8bba1a61cd3e': {'image-ref': 's3://sagemaker-us-west-2-374212921621/titan-finetuning/image061.png',\n",
       "  'caption': 'storyboard sketch of A group of pals joyfully splashing in puddles, their laughter echoing through the rainy streets.'},\n",
       " '51eb1889-d725-4640-8282-4eb6935baaa7': {'image-ref': 's3://sagemaker-us-west-2-374212921621/titan-finetuning/image081.png',\n",
       "  'caption': \"storyboard sketch of A youngster's hands carefully molding a lump of clay, their brow furrowed in concentration as they shape it into a whimsical creature.\"},\n",
       " '68f28c40-0db1-477d-8edc-442f9feff06e': {'image-ref': 's3://sagemaker-us-west-2-374212921621/titan-finetuning/image098.png',\n",
       "  'caption': 'storyboard sketch of A young musician strums a guitar, filling the room with melodic tunes that touch the heart.'},\n",
       " '90a81d93-2053-4019-b762-35cd424776dd': {'image-ref': 's3://sagemaker-us-west-2-374212921621/titan-finetuning/image059.png',\n",
       "  'caption': 'storyboard sketch of A little one, clad in a superhero cape, fearlessly leaping from couch to chair, saving the day in the realm of their boundless imagination.'},\n",
       " '2c14d5ad-3ec1-4858-84dc-8232d0a1b72d': {'image-ref': 's3://sagemaker-us-west-2-374212921621/titan-finetuning/image069.png',\n",
       "  'caption': 'storyboard sketch of Two budding scientists huddled over a microscope, eyes wide with wonder as they explore the intricate world of the unseen.'},\n",
       " 'ade2c9eb-8888-4990-927a-52297ec2416a': {'image-ref': 's3://sagemaker-us-west-2-374212921621/titan-finetuning/image091.png',\n",
       "  'caption': 'storyboard sketch of A family gathered around a cozy fireplace, sharing stories and laughter as the crackling flames dance.'},\n",
       " '5a61de98-3ccd-44bb-bfa8-6ba5759af56d': {'image-ref': 's3://sagemaker-us-west-2-374212921621/titan-finetuning/image077.png',\n",
       "  'caption': 'storyboard sketch of Two friends soaring on a makeshift swing, their laughter carried by the gentle breeze.'},\n",
       " 'cc10a2d5-2e32-4881-ba72-e6bbe045f124': {'image-ref': 's3://sagemaker-us-west-2-374212921621/titan-finetuning/image073.png',\n",
       "  'caption': 'storyboard sketch of Two friends engaged in an intense game of chess, their brows furrowed in concentration.'},\n",
       " '781d9694-8441-42fb-9192-51258a0c973c': {'image-ref': 's3://sagemaker-us-west-2-374212921621/titan-finetuning/image057.png',\n",
       "  'caption': 'storyboard sketch of A tiny musician, eyes closed, lost in the melody of their own creation, their fingers dancing across the strings of a beloved instrument.'},\n",
       " '14f731ca-b5ca-4f96-8ea5-2e4ba53df513': {'image-ref': 's3://sagemaker-us-west-2-374212921621/titan-finetuning/image086.png',\n",
       "  'caption': \"storyboard sketch of A youngster's eyes alight with wonder as they gaze up at the twinkling stars, dreaming of the vastness of space.\"},\n",
       " '8ced0c75-a29f-4c72-9b31-51718fc770fe': {'image-ref': 's3://sagemaker-us-west-2-374212921621/titan-finetuning/image011.png',\n",
       "  'caption': 'storyboard sketch of A family of bunnies nibbling on fresh carrots in their cozy burrow, their wiggly noses twitching with delight.'},\n",
       " '686aaf59-a337-45f3-acf0-ffe0aa75d7d1': {'image-ref': 's3://sagemaker-us-west-2-374212921621/titan-finetuning/image005.png',\n",
       "  'caption': 'storyboard sketch of A cozy treehouse nestled among the branches, a secret hideaway for imaginative adventurers.'},\n",
       " '8b99a9c8-ac6a-49ce-9f07-520303f49fd2': {'image-ref': 's3://sagemaker-us-west-2-374212921621/titan-finetuning/image023.png',\n",
       "  'caption': 'storyboard sketch of A cozy reading nook by the window, where a pair of slippers rest beside a stack of well-loved books.'},\n",
       " '3fabe3ee-d546-421d-ad78-79640f675744': {'image-ref': 's3://sagemaker-us-west-2-374212921621/titan-finetuning/image096.png',\n",
       "  'caption': 'storyboard sketch of A bookworm curled up in a cozy nook, lost in the pages of an enchanting tale.'},\n",
       " '47e6ec3e-9b23-4c89-a608-70c8f752fd4a': {'image-ref': 's3://sagemaker-us-west-2-374212921621/titan-finetuning/image014.png',\n",
       "  'caption': 'storyboard sketch of A group of fairies dancing around a glowing mushroom ring, sprinkling magical pixie dust into the night air.'},\n",
       " 'e03e7fea-1ab8-4687-a150-6da2b9a76e27': {'image-ref': 's3://sagemaker-us-west-2-374212921621/titan-finetuning/image065.png',\n",
       "  'caption': 'storyboard sketch of A trio of friends huddled around a campfire, roasting marshmallows as the stars twinkle overhead.'},\n",
       " '81399c3c-1dc7-49ee-b54e-2aa55df8b97f': {'image-ref': 's3://sagemaker-us-west-2-374212921621/titan-finetuning/image050.png',\n",
       "  'caption': 'storyboard sketch of A pint-sized explorer, magnifying glass in tow, venturing into the microcosmic realm of the backyard.'},\n",
       " 'b1ccd05c-f321-4863-999e-12b26ede1c79': {'image-ref': 's3://sagemaker-us-west-2-374212921621/titan-finetuning/image082.png',\n",
       "  'caption': 'storyboard sketch of Two playmates crafting an imaginary world, their laughter mingling with the soft rustling of leaves as they construct a cozy fort with blankets and pillows.'},\n",
       " '8df5d161-8978-4ffe-b604-f754f067f240': {'image-ref': 's3://sagemaker-us-west-2-374212921621/titan-finetuning/image094.png',\n",
       "  'caption': \"storyboard sketch of An adventurer's backpack sits ready, filled with maps, snacks, and a thirst for exploration.\"},\n",
       " '4cd1e8f0-0f85-4472-aae5-c208ad5bd340': {'image-ref': 's3://sagemaker-us-west-2-374212921621/titan-finetuning/image051.png',\n",
       "  'caption': 'storyboard sketch of A curious little one, eyes wide with wonder, gazing up at the starry night sky, pondering the vastness of the universe.'},\n",
       " 'b8c632b5-9be2-4259-87c5-14e9cc837eeb': {'image-ref': 's3://sagemaker-us-west-2-374212921621/titan-finetuning/image085.png',\n",
       "  'caption': \"storyboard sketch of A youngster's eyes sparkling with delight as they unwrap a long-awaited gift, their face beaming with anticipation of the surprise within.\"},\n",
       " 'aa543e81-cfa8-4516-98f0-b421c0bf9f94': {'image-ref': 's3://sagemaker-us-west-2-374212921621/titan-finetuning/image002.png',\n",
       "  'caption': 'storyboard sketch of A group of frogs sitting on lily pads, croaking a symphony under the watchful gaze of a great blue heron.'},\n",
       " 'fadcb086-5e8e-4595-96d2-280f01bc6f0c': {'image-ref': 's3://sagemaker-us-west-2-374212921621/titan-finetuning/image004.png',\n",
       "  'caption': 'storyboard sketch of A vibrant coral reef teeming with colorful fish, swaying gently in the underwater currents.'},\n",
       " '1335a6b2-95b5-4c9b-835d-440b3ada2084': {'image-ref': 's3://sagemaker-us-west-2-374212921621/titan-finetuning/image085.png',\n",
       "  'caption': 'storyboard sketch of A pair of pals building an elaborate fort from couch cushions and blankets, their laughter echoing through the living room.'},\n",
       " '6767b16b-d87e-4803-ad4f-e08671e07116': {'image-ref': 's3://sagemaker-us-west-2-374212921621/titan-finetuning/image090.png',\n",
       "  'caption': 'storyboard sketch of Two playmates lost in a world of imagination, their laughter echoing through the backyard as they reenact their favorite storybook adventures.'},\n",
       " '63bdca62-5812-47b4-a613-dbfcff7f8574': {'image-ref': 's3://sagemaker-us-west-2-374212921621/titan-finetuning/image092.png',\n",
       "  'caption': 'storyboard sketch of A group of friends engaged in a lively game of hopscotch, their giggles echoing through the neighborhood.'},\n",
       " '176fafd5-db21-41fb-a19b-5795b16df3d9': {'image-ref': 's3://sagemaker-us-west-2-374212921621/titan-finetuning/image025.png',\n",
       "  'caption': 'storyboard sketch of A family of ducks waddling along the banks of a pond, their feathers glistening as they dip their heads into the cool water.'},\n",
       " 'b428dfd6-8d19-4819-8677-0b5d55645672': {'image-ref': 's3://sagemaker-us-west-2-374212921621/titan-finetuning/image022.png',\n",
       "  'caption': 'storyboard sketch of Colorful fish darting through a vibrant coral reef, their scales shimmering in the sunlight that filters through the water.'},\n",
       " 'b74466e0-d75b-4c9c-8934-691981c9e068': {'image-ref': 's3://sagemaker-us-west-2-374212921621/titan-finetuning/image079.png',\n",
       "  'caption': 'storyboard sketch of A group of young entrepreneurs operating a lemonade stand, their entrepreneurial spirits shining bright.'},\n",
       " '6c1083d9-2845-4841-a4c5-48ee2a636d16': {'image-ref': 's3://sagemaker-us-west-2-374212921621/titan-finetuning/image086.png',\n",
       "  'caption': 'storyboard sketch of Two companions huddled around a warm campfire, spinning tales of daring exploits as the flickering flames cast dancing shadows on their faces.'},\n",
       " '0e2dbc6d-26c7-4ff9-ae25-d8d42a2f56e8': {'image-ref': 's3://sagemaker-us-west-2-374212921621/titan-finetuning/image081.png',\n",
       "  'caption': 'storyboard sketch of A group of inquisitive minds huddled around a magnifying glass, their eyes widening with wonder as they observe the intricate details of a fallen leaf.'},\n",
       " 'a865a31b-e3d5-4ae9-b8e6-0e1c79fc46bd': {'image-ref': 's3://sagemaker-us-west-2-374212921621/titan-finetuning/image010.png',\n",
       "  'caption': 'storyboard sketch of A pirate crew aboard a majestic galleon, unfurling the sails and setting course for a treasure-filled island.'},\n",
       " '7d9430fb-2b07-41b4-a8a5-c21f5cd086f2': {'image-ref': 's3://sagemaker-us-west-2-374212921621/titan-finetuning/image068.png',\n",
       "  'caption': 'storyboard sketch of A young musician strumming a guitar, their melodies drifting through an open window on a summer evening.'},\n",
       " '98e723f2-a76f-4d70-8511-f9c6766d8df4': {'image-ref': 's3://sagemaker-us-west-2-374212921621/titan-finetuning/image084.png',\n",
       "  'caption': 'storyboard sketch of A duo of adventurers embarking on a backyard expedition, their makeshift maps guiding them through uncharted territories of imagination.'},\n",
       " '28757534-2162-4de9-907b-8858eda36796': {'image-ref': 's3://sagemaker-us-west-2-374212921621/titan-finetuning/image039.png',\n",
       "  'caption': 'storyboard sketch of A tiny architect meticulously constructing an elaborate fort, a realm where imagination knows no bounds.'},\n",
       " 'bedadece-5844-4f51-86cb-62dc3f7256d5': {'image-ref': 's3://sagemaker-us-west-2-374212921621/titan-finetuning/image083.png',\n",
       "  'caption': \"storyboard sketch of A mischievous grin spreads across a youngster's face as they sneak a handful of flour from the kitchen, plotting their next culinary escapade.\"},\n",
       " '3d1ae677-fda8-4147-845e-e4189081e190': {'image-ref': 's3://sagemaker-us-west-2-374212921621/titan-finetuning/image070.png',\n",
       "  'caption': \"storyboard sketch of A young musician, fingers dancing across the strings of a guitar, lost in the melodies they've composed from their imagination.\"},\n",
       " '7ff9d4e1-d002-450f-991d-907040faac17': {'image-ref': 's3://sagemaker-us-west-2-374212921621/titan-finetuning/image035.png',\n",
       "  'caption': \"storyboard sketch of A youngster's face aglow with wonder, gazing skyward at the twinkling stars that dance across the night.\"},\n",
       " 'cfe1c806-c2a2-4a85-a9b9-97dca3444982': {'image-ref': 's3://sagemaker-us-west-2-374212921621/titan-finetuning/image034.png',\n",
       "  'caption': 'storyboard sketch of A pint-sized chef, donning a whimsical apron, carefully measuring ingredients to conjure a delicious treat.'},\n",
       " 'fcb05968-0f82-4228-bec3-f5746f41f7ce': {'image-ref': 's3://sagemaker-us-west-2-374212921621/titan-finetuning/image083.png',\n",
       "  'caption': \"storyboard sketch of A youngster's face aglow with concentration, their fingers skillfully weaving strands of yarn into a vibrant tapestry of colors and patterns.\"},\n",
       " 'c5ec3386-f62c-40aa-b870-dbacfcd9ff9c': {'image-ref': 's3://sagemaker-us-west-2-374212921621/titan-finetuning/image028.png',\n",
       "  'caption': 'storyboard sketch of A bustling city street, where pedestrians weave through a vibrant tapestry of sights, sounds, and aromas.'},\n",
       " '7465da80-3644-43a0-9ed1-a9cdcb3ddfe1': {'image-ref': 's3://sagemaker-us-west-2-374212921621/titan-finetuning/image064.png',\n",
       "  'caption': 'storyboard sketch of A group of inquisitive minds gathered around a bubbling brook, dipping nets and capturing wriggling creatures for closer observation.'},\n",
       " '594f1e53-8211-4765-b504-5e06687f667f': {'image-ref': 's3://sagemaker-us-west-2-374212921621/titan-finetuning/image063.png',\n",
       "  'caption': 'storyboard sketch of Two mischievous siblings engaged in an epic pillow fight, feathers flying in every direction.'},\n",
       " 'ff9beb15-56ee-48d0-8103-3401939eb4d8': {'image-ref': 's3://sagemaker-us-west-2-374212921621/titan-finetuning/image089.png',\n",
       "  'caption': \"storyboard sketch of A youngster's face scrunched in concentration, their tongue peeking out as they meticulously construct an elaborate sculpture from modeling clay.\"},\n",
       " '4a2ab11f-2ced-48ce-9b46-c06b9455eacb': {'image-ref': 's3://sagemaker-us-west-2-374212921621/titan-finetuning/image078.png',\n",
       "  'caption': 'storyboard sketch of A tiny artist crafting an intricate sculpture from modeling clay, their fingers molding each detail.'},\n",
       " 'f3cfbdab-628b-4fa5-9f95-228c2ee064aa': {'image-ref': 's3://sagemaker-us-west-2-374212921621/titan-finetuning/image067.png',\n",
       "  'caption': 'storyboard sketch of A group of adventurers constructing an intricate fort in the backyard, their imaginations running wild.'},\n",
       " '64e7c5fa-4f7c-4f6a-a649-9ba8ca94e870': {'image-ref': 's3://sagemaker-us-west-2-374212921621/titan-finetuning/image069.png',\n",
       "  'caption': 'storyboard sketch of Two playmates building an elaborate sandcastle on the beach, each grain of sand carefully placed.'},\n",
       " '1f6951ca-7d30-42cc-b6fb-16f522fffd17': {'image-ref': 's3://sagemaker-us-west-2-374212921621/titan-finetuning/image019.png',\n",
       "  'caption': \"storyboard sketch of A young scientist peering through a microscope, their eyes filled with wonder at the tiny world they've discovered.\"},\n",
       " '938cd9c5-f1fc-4425-ac23-5b37324eac92': {'image-ref': 's3://sagemaker-us-west-2-374212921621/titan-finetuning/image008.png',\n",
       "  'caption': 'storyboard sketch of A friendly robot carefully tending to a garden of mechanical flowers, each one blooming with lights and whirring gears.'},\n",
       " '5611ceaf-3d2b-4561-acb2-5473627690c1': {'image-ref': 's3://sagemaker-us-west-2-374212921621/titan-finetuning/image068.png',\n",
       "  'caption': 'storyboard sketch of A young chef, apron tied neatly, carefully arranging freshly baked treats on a platter with a dusting of powdered sugar.'}}"
      ]
     },
     "execution_count": 20,
     "metadata": {},
     "output_type": "execute_result"
    }
   ],
   "source": [
    "train_data = \"data/train.json\"\n",
    "with open(train_data, 'r+') as f:\n",
    "    train_dataset = json.load(f)\n",
    "    \n",
    "image_data = train_dataset['corpus']\n",
    "\n",
    "valid_data = \"data/valid.json\"\n",
    "with open(valid_data, 'r+') as f:\n",
    "    valid_dataset = json.load(f)\n",
    "\n",
    "image_data.update(valid_dataset['corpus'])\n",
    "image_data"
   ]
  },
  {
   "cell_type": "markdown",
   "id": "c00cc293-1a1a-4fe1-9fb7-3fc1a768b56a",
   "metadata": {},
   "source": [
    "### > generate the index data"
   ]
  },
  {
   "cell_type": "code",
   "execution_count": 21,
   "id": "43ccfc90-1377-404c-b93b-4f95087e6af8",
   "metadata": {
    "scrolled": true
   },
   "outputs": [],
   "source": [
    "index_object=[]\n",
    "\n",
    "for id, key in enumerate(image_data):\n",
    "    metadata = dict()\n",
    "    metadata['id'] = key\n",
    "\n",
    "    image = download_file_from_s3(image_data[key]['image-ref'])\n",
    "    image_base64 = _encode(image)\n",
    "    metadata['vector_field'] = get_mm_embedding(image_base64=image_base64)\n",
    "    metadata['image-ref'] = image_data[key]['image-ref']\n",
    "    metadata['caption'] = image_data[key]['caption']\n",
    "    \n",
    "    index_object.append(metadata)"
   ]
  },
  {
   "cell_type": "markdown",
   "id": "ea3f8860-df45-4c1b-ba86-7f38b12d023b",
   "metadata": {},
   "source": [
    "### > Setup a vector index"
   ]
  },
  {
   "cell_type": "code",
   "execution_count": 22,
   "id": "5b90ae4a-b05d-4ecb-b754-a9977c550028",
   "metadata": {},
   "outputs": [],
   "source": [
    "# vector_store_name = name_from_base(index_name)[:20]\n",
    "# index_name = f\"{vector_store_name}-index\"\n",
    "# encryption_policy_name = f\"{vector_store_name}-ep\"\n",
    "# network_policy_name = f\"{vector_store_name}-np\"\n",
    "# access_policy_name = f\"{vector_store_name}-ap\"\n",
    "\n",
    "# host = os_manager.create_opensearch_collection(\n",
    "#         vector_store_name=vector_store_name,\n",
    "#         index_name=index_name,\n",
    "#         encryption_policy_name=encryption_policy_name,\n",
    "#         network_policy_name=network_policy_name,\n",
    "#         access_policy_name=access_policy_name\n",
    "#     )\n",
    "\n",
    "# print(f\"hosting url: {host}\")"
   ]
  },
  {
   "cell_type": "code",
   "execution_count": 23,
   "id": "9547536f-ec8e-47c0-b9b2-8a448b641ef5",
   "metadata": {},
   "outputs": [],
   "source": [
    "host = \"zs7omkhikyvo5t5w2hyj.us-west-2.aoss.amazonaws.com\"\n",
    "\n",
    "if host is None:\n",
    "    raise ValueError(\"Must provide a host url for Opensearch Severless collection \")"
   ]
  },
  {
   "cell_type": "markdown",
   "id": "4bc81c47-4689-4379-9dd1-8dab6f0faf40",
   "metadata": {},
   "source": [
    "### > Inititialize Client"
   ]
  },
  {
   "cell_type": "code",
   "execution_count": 24,
   "id": "a9614680-fc11-404b-889b-947341a51889",
   "metadata": {},
   "outputs": [],
   "source": [
    "os_manager.initialize_client(host=host)"
   ]
  },
  {
   "cell_type": "markdown",
   "id": "4eb630e2-9a09-4ec5-8ac1-0dd9c9c92362",
   "metadata": {},
   "source": [
    "### > Create a new index"
   ]
  },
  {
   "cell_type": "code",
   "execution_count": 25,
   "id": "1d94c589-9b97-4af9-82be-ba550190d4df",
   "metadata": {},
   "outputs": [],
   "source": [
    "index_body = {\n",
    "  \"mappings\": {\n",
    "    \"properties\": {\n",
    "      \"id\": {\n",
    "        \"type\": \"text\"\n",
    "      },\n",
    "      \"image-ref\": {\n",
    "        \"type\": \"text\"\n",
    "      },\n",
    "      \"caption\": {\n",
    "        \"type\": \"text\"\n",
    "      },\n",
    "      \"vector_field\": {\n",
    "        \"type\": \"knn_vector\",\n",
    "        \"dimension\": 1024,\n",
    "        \"method\": {\n",
    "          \"engine\": \"nmslib\",\n",
    "          \"space_type\": \"cosinesimil\", \n",
    "          \"name\": \"hnsw\",\n",
    "          \"parameters\": {\n",
    "            \"ef_construction\": 512,\n",
    "            \"m\": 16\n",
    "          }\n",
    "        }\n",
    "      }\n",
    "    }\n",
    "  },\n",
    "  \"settings\": {\n",
    "    \"index\": {\n",
    "      \"number_of_shards\": 2,\n",
    "      \"knn.algo_param\": {\n",
    "        \"ef_search\": 512\n",
    "      },\n",
    "      \"knn\": True\n",
    "    }\n",
    "  }\n",
    "}"
   ]
  },
  {
   "cell_type": "code",
   "execution_count": 26,
   "id": "a69c2afc-cae7-4063-89b0-17426c71bca4",
   "metadata": {},
   "outputs": [
    {
     "name": "stdout",
     "output_type": "stream",
     "text": [
      "{\n",
      "  \"acknowledged\": true,\n",
      "  \"shards_acknowledged\": true,\n",
      "  \"index\": \"mm-index-2024-04-26-01-32-44-432\"\n",
      "}\n"
     ]
    }
   ],
   "source": [
    "resp = os_manager.create_index(index_name=index_name, index_body=index_body)\n",
    "time.sleep(40)"
   ]
  },
  {
   "cell_type": "markdown",
   "id": "7b158389-2211-4c5b-a0a0-126edab8f2db",
   "metadata": {},
   "source": [
    "### > Bulk ingestion"
   ]
  },
  {
   "cell_type": "code",
   "execution_count": 28,
   "id": "66452651-af43-4fec-be2d-18b228794fee",
   "metadata": {},
   "outputs": [
    {
     "name": "stdout",
     "output_type": "stream",
     "text": [
      "Indexed 81 documents\n",
      "validate query ...\n"
     ]
    }
   ],
   "source": [
    "sucess, failed = os_manager.bulk_index_ingestion(index_name=index_name,\n",
    "                                                     data=index_object)\n",
    "time.sleep(20)\n",
    "print(\"validate query ...\")"
   ]
  },
  {
   "cell_type": "markdown",
   "id": "30ceb29d-7640-44fe-af77-af281d08ca75",
   "metadata": {},
   "source": [
    "### > Test the top hit performance before and after fine tuning"
   ]
  },
  {
   "cell_type": "code",
   "execution_count": 29,
   "id": "99db2a3c-c394-473f-81ef-7edb5231752c",
   "metadata": {},
   "outputs": [],
   "source": [
    "# build opensearch query\n",
    "os_query = {\n",
    "    \"size\": 5,\n",
    "    \"query\":{\n",
    "        \"knn\": {\n",
    "        \"vector_field\": {\n",
    "            \"vector\": [],\n",
    "            \"k\": 5\n",
    "        }\n",
    "        }\n",
    "    },\n",
    "    \"_source\": [\"id\", \n",
    "                \"image-ref\", \n",
    "                \"caption\"]}"
   ]
  },
  {
   "cell_type": "code",
   "execution_count": 30,
   "id": "2fab84a0-c621-4d90-8188-84b6359bc27f",
   "metadata": {
    "scrolled": true
   },
   "outputs": [],
   "source": [
    "from tqdm.notebook import tqdm\n",
    "\n",
    "def evaluate_top_hit(dataset, top_k=5, model_id=None):\n",
    "    queries = dataset[\"queries\"]\n",
    "    mapping = dataset[\"relevant_docs\"]\n",
    "    eval_results = []\n",
    "    for q_id, query in tqdm(queries.items()):\n",
    "\n",
    "        if model_id:\n",
    "            os_query[\"query\"][\"knn\"][\"vector_field\"][\"vector\"] = get_mm_embedding(text_description=query, \n",
    "                                                                                 model_id=model_id)\n",
    "        else:\n",
    "            os_query[\"query\"][\"knn\"][\"vector_field\"][\"vector\"] = get_mm_embedding(text_description=query)\n",
    "        os_query[\"size\"] = top_k\n",
    "        os_query[\"query\"][\"knn\"][\"vector_field\"][\"k\"] = top_k\n",
    "            \n",
    "        results = os_manager.opensearch_query(os_query,\n",
    "                                              index_name=index_name)\n",
    "    \n",
    "        retrieved_ids = []\n",
    "        for index, value in enumerate(results):\n",
    "            retrieved_ids.append(value[\"_source\"][\"id\"])\n",
    "    \n",
    "        expected_id = mapping[q_id][0]\n",
    "        \n",
    "        is_hit = expected_id in retrieved_ids  # assume 1 relevant doc\n",
    "    \n",
    "        eval_result = {\n",
    "            'is_hit': is_hit,\n",
    "            'retrieved': retrieved_ids,\n",
    "            'expected': expected_id,\n",
    "            'query': q_id,\n",
    "        }\n",
    "        eval_results.append(eval_result)\n",
    "    return eval_results"
   ]
  },
  {
   "cell_type": "markdown",
   "id": "4252862c-fc37-4fea-89f5-5993a1522a69",
   "metadata": {},
   "source": [
    "### > Orginal Base Model"
   ]
  },
  {
   "cell_type": "code",
   "execution_count": 31,
   "id": "caf9e0ed-464c-4159-b432-c8e10473f4b1",
   "metadata": {},
   "outputs": [
    {
     "data": {
      "application/vnd.jupyter.widget-view+json": {
       "model_id": "4bfd87080107409f945b429a5dd987dc",
       "version_major": 2,
       "version_minor": 0
      },
      "text/plain": [
       "  0%|          | 0/340 [00:00<?, ?it/s]"
      ]
     },
     "metadata": {},
     "output_type": "display_data"
    },
    {
     "name": "stdout",
     "output_type": "stream",
     "text": [
      "percent of top hits: 92.35 %\n"
     ]
    }
   ],
   "source": [
    "eval_results = evaluate_top_hit(valid_dataset, top_k=5)\n",
    "\n",
    "df_base = pd.DataFrame(eval_results)\n",
    "top_hits = df_base['is_hit'].mean()\n",
    "\n",
    "print(\"percent of top hits: {:.2f} %\".format(top_hits*100))"
   ]
  },
  {
   "cell_type": "markdown",
   "id": "e4b9a563-3ac6-4af5-aa1f-b000d021d7fc",
   "metadata": {},
   "source": [
    "### > Fine tune Titan Multi-Modal Embedding"
   ]
  },
  {
   "cell_type": "code",
   "execution_count": 32,
   "id": "3c135253-308a-4bd2-ac6b-2bc85d4b1de0",
   "metadata": {},
   "outputs": [
    {
     "data": {
      "application/vnd.jupyter.widget-view+json": {
       "model_id": "40f70fca28b34f7aa3e3987704780459",
       "version_major": 2,
       "version_minor": 0
      },
      "text/plain": [
       "  0%|          | 0/340 [00:00<?, ?it/s]"
      ]
     },
     "metadata": {},
     "output_type": "display_data"
    },
    {
     "name": "stdout",
     "output_type": "stream",
     "text": [
      "percent of top hits: 95.00 %\n"
     ]
    }
   ],
   "source": [
    "eval_results = evaluate_top_hit(valid_dataset, top_k=5, model_id=provisioned_model_id)\n",
    "\n",
    "df_base = pd.DataFrame(eval_results)\n",
    "top_hits = df_base['is_hit'].mean()\n",
    "\n",
    "print(\"percent of top hits: {:.2f} %\".format(top_hits*100))"
   ]
  },
  {
   "cell_type": "code",
   "execution_count": null,
   "id": "cce7a96b-5788-4a5d-baa8-6d679a7542cf",
   "metadata": {},
   "outputs": [],
   "source": []
  }
 ],
 "metadata": {
  "kernelspec": {
   "display_name": "Python 3 (ipykernel)",
   "language": "python",
   "name": "python3"
  },
  "language_info": {
   "codemirror_mode": {
    "name": "ipython",
    "version": 3
   },
   "file_extension": ".py",
   "mimetype": "text/x-python",
   "name": "python",
   "nbconvert_exporter": "python",
   "pygments_lexer": "ipython3",
   "version": "3.10.13"
  }
 },
 "nbformat": 4,
 "nbformat_minor": 5
}
